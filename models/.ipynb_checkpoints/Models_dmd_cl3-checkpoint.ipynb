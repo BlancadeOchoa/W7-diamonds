{
 "cells": [
  {
   "cell_type": "code",
   "execution_count": 1,
   "metadata": {},
   "outputs": [],
   "source": [
    "#import the libraries:\n",
    "import pandas as pd \n",
    "import numpy as np\n",
    "from sklearn import metrics\n",
    "from sklearn.linear_model import LinearRegression\n",
    "from sklearn.metrics import mean_squared_error\n",
    "from sklearn.metrics import r2_score\n",
    "from sklearn.model_selection import cross_val_score\n",
    "from sklearn.linear_model import Lasso\n",
    "from sklearn.preprocessing import StandardScaler\n",
    "from sklearn.linear_model import Ridge\n",
    "from sklearn.tree import DecisionTreeClassifier\n",
    "from sklearn.ensemble import RandomForestRegressor\n",
    "from sklearn.neighbors import KNeighborsClassifier\n",
    "from sklearn.linear_model import BayesianRidge \n",
    "from sklearn.linear_model import ElasticNet"
   ]
  },
  {
   "cell_type": "markdown",
   "metadata": {},
   "source": [
    "# Models:"
   ]
  },
  {
   "cell_type": "code",
   "execution_count": 2,
   "metadata": {},
   "outputs": [],
   "source": [
    "# import the clean datasets\n",
    "#%store -r dmd_cl1\n",
    "#%store -r dmd_cl2\n",
    "%store -r dmd_cl3\n",
    "#%store -r dmd_cl4"
   ]
  },
  {
   "cell_type": "code",
   "execution_count": 4,
   "metadata": {},
   "outputs": [],
   "source": [
    "X = dmd_cl3.drop(columns = 'price')\n",
    "y = dmd_cl3['price']"
   ]
  },
  {
   "cell_type": "markdown",
   "metadata": {},
   "source": [
    "#### Lets divide the dataset into train and test"
   ]
  },
  {
   "cell_type": "code",
   "execution_count": 5,
   "metadata": {},
   "outputs": [],
   "source": [
    "from sklearn.model_selection import train_test_split"
   ]
  },
  {
   "cell_type": "code",
   "execution_count": 6,
   "metadata": {},
   "outputs": [],
   "source": [
    "X_train, X_test, y_train, y_test = train_test_split( X, y, train_size=0.8)"
   ]
  },
  {
   "cell_type": "code",
   "execution_count": 7,
   "metadata": {},
   "outputs": [],
   "source": [
    "from sklearn.preprocessing import StandardScaler\n",
    "scaler = StandardScaler()\n",
    "scaler.fit(X_train)\n",
    "\n",
    "X_train = scaler.transform(X_train)\n",
    "X_test = scaler.transform(X_test)"
   ]
  },
  {
   "cell_type": "markdown",
   "metadata": {},
   "source": [
    "## 1. LINEAR REGRESSION"
   ]
  },
  {
   "cell_type": "code",
   "execution_count": 8,
   "metadata": {},
   "outputs": [
    {
     "data": {
      "text/plain": [
       "LinearRegression()"
      ]
     },
     "execution_count": 8,
     "metadata": {},
     "output_type": "execute_result"
    }
   ],
   "source": [
    "#Train the model\n",
    "lr = LinearRegression()\n",
    "lr.fit(X_train, y_train)"
   ]
  },
  {
   "cell_type": "code",
   "execution_count": 9,
   "metadata": {},
   "outputs": [],
   "source": [
    "y_pred_train_lr = lr.predict(X_train)\n",
    "y_pred_test_lr = lr.predict(X_test)"
   ]
  },
  {
   "cell_type": "code",
   "execution_count": 10,
   "metadata": {},
   "outputs": [
    {
     "name": "stdout",
     "output_type": "stream",
     "text": [
      "TRAIN : Mean Absolute Error: 840.0937760558036\n",
      "TRAIN : Mean Squared Error: 1468633.5427640094\n",
      "TRAIN : R2 Score: 0.908313879429201\n",
      "TRAIN : Root Mean Squared Error: 1211.871916814648\n",
      "----------------------------------------------------------\n",
      "TEST : Mean Absolute Error: 849.842319911223\n",
      "TEST : Mean Squared Error: 1536115.3017356512\n",
      "TEST : R2 Score: 0.905827684126531\n",
      "TEST : Root Mean Squared Error: 1239.4011867574\n"
     ]
    }
   ],
   "source": [
    "#TRAIN:\n",
    "print('TRAIN : Mean Absolute Error:', metrics.mean_absolute_error(y_train, y_pred_train_lr ))\n",
    "print('TRAIN : Mean Squared Error:', metrics.mean_squared_error(y_train, y_pred_train_lr ))\n",
    "print('TRAIN : R2 Score:', r2_score(y_train, y_pred_train_lr ))\n",
    "print('TRAIN : Root Mean Squared Error:', np.sqrt(metrics.mean_squared_error(y_train, y_pred_train_lr )))\n",
    "print ('----------------------------------------------------------')\n",
    "#TEST:\n",
    "print('TEST : Mean Absolute Error:', metrics.mean_absolute_error(y_test, y_pred_test_lr ))\n",
    "print('TEST : Mean Squared Error:', metrics.mean_squared_error(y_test, y_pred_test_lr ))\n",
    "print('TEST : R2 Score:', r2_score(y_test, y_pred_test_lr))\n",
    "print('TEST : Root Mean Squared Error:', np.sqrt(metrics.mean_squared_error(y_test, y_pred_test_lr )))"
   ]
  },
  {
   "cell_type": "markdown",
   "metadata": {},
   "source": [
    "#### Cross Validation:"
   ]
  },
  {
   "cell_type": "code",
   "execution_count": 11,
   "metadata": {},
   "outputs": [
    {
     "data": {
      "text/plain": [
       "array([-1238.61413376, -1197.65068083, -1199.52372361])"
      ]
     },
     "execution_count": 11,
     "metadata": {},
     "output_type": "execute_result"
    }
   ],
   "source": [
    "scores_lr = cross_val_score(lr, X_train, y_train, cv=3, scoring='neg_root_mean_squared_error')\n",
    "scores_lr"
   ]
  },
  {
   "cell_type": "markdown",
   "metadata": {},
   "source": [
    "## 2. LASSO"
   ]
  },
  {
   "cell_type": "code",
   "execution_count": 12,
   "metadata": {},
   "outputs": [
    {
     "data": {
      "text/plain": [
       "Lasso()"
      ]
     },
     "execution_count": 12,
     "metadata": {},
     "output_type": "execute_result"
    }
   ],
   "source": [
    "lasso = Lasso()\n",
    "lasso.fit(X_train, y_train)"
   ]
  },
  {
   "cell_type": "code",
   "execution_count": 13,
   "metadata": {},
   "outputs": [],
   "source": [
    "y_pred_train_lasso = lasso.predict(X_train)\n",
    "y_pred_test_lasso = lasso.predict(X_test)"
   ]
  },
  {
   "cell_type": "code",
   "execution_count": 14,
   "metadata": {},
   "outputs": [
    {
     "name": "stdout",
     "output_type": "stream",
     "text": [
      "TRAIN : Mean Absolute Error: 839.6819084719341\n",
      "TRAIN : Mean Squared Error: 1468641.7595684424\n",
      "TRAIN : R2 Score: 0.9083133664578573\n",
      "TRAIN : Root Mean Squared Error: 1211.8753069389782\n",
      "----------------------------------------------------------\n",
      "TEST : Mean Absolute Error: 849.4333350174829\n",
      "TEST : Mean Squared Error: 1536278.1289934907\n",
      "TEST : R2 Score: 0.9058177019201558\n",
      "TEST : Root Mean Squared Error: 1239.466872890716\n"
     ]
    }
   ],
   "source": [
    "#TRAIN:\n",
    "print('TRAIN : Mean Absolute Error:', metrics.mean_absolute_error(y_train, y_pred_train_lasso ))\n",
    "print('TRAIN : Mean Squared Error:', metrics.mean_squared_error(y_train, y_pred_train_lasso ))\n",
    "print('TRAIN : R2 Score:', r2_score(y_train, y_pred_train_lasso ))\n",
    "print('TRAIN : Root Mean Squared Error:', np.sqrt(metrics.mean_squared_error(y_train, y_pred_train_lasso )))\n",
    "print ('----------------------------------------------------------')\n",
    "#TEST:\n",
    "print('TEST : Mean Absolute Error:', metrics.mean_absolute_error(y_test, y_pred_test_lasso ))\n",
    "print('TEST : Mean Squared Error:', metrics.mean_squared_error(y_test, y_pred_test_lasso ))\n",
    "print('TEST : R2 Score:', r2_score(y_test, y_pred_test_lasso))\n",
    "print('TEST : Root Mean Squared Error:', np.sqrt(metrics.mean_squared_error(y_test, y_pred_test_lasso )))"
   ]
  },
  {
   "cell_type": "markdown",
   "metadata": {},
   "source": [
    "#### Cross Validation:"
   ]
  },
  {
   "cell_type": "code",
   "execution_count": 15,
   "metadata": {},
   "outputs": [
    {
     "data": {
      "text/plain": [
       "array([-1238.61084476, -1197.63085032, -1199.55610937])"
      ]
     },
     "execution_count": 15,
     "metadata": {},
     "output_type": "execute_result"
    }
   ],
   "source": [
    "scores_lasso = cross_val_score(lasso, X_train, y_train, cv=3, scoring='neg_root_mean_squared_error')\n",
    "scores_lasso"
   ]
  },
  {
   "cell_type": "markdown",
   "metadata": {},
   "source": [
    "## 3. RIDGE"
   ]
  },
  {
   "cell_type": "code",
   "execution_count": 16,
   "metadata": {},
   "outputs": [
    {
     "data": {
      "text/plain": [
       "Ridge(alpha=1)"
      ]
     },
     "execution_count": 16,
     "metadata": {},
     "output_type": "execute_result"
    }
   ],
   "source": [
    "ridge = Ridge(alpha = 1)\n",
    "ridge.fit(X_train, y_train)"
   ]
  },
  {
   "cell_type": "code",
   "execution_count": 17,
   "metadata": {},
   "outputs": [],
   "source": [
    "y_pred_train_ridge = ridge.predict(X_train)\n",
    "y_pred_test_ridge = ridge.predict(X_test)"
   ]
  },
  {
   "cell_type": "code",
   "execution_count": 18,
   "metadata": {},
   "outputs": [
    {
     "name": "stdout",
     "output_type": "stream",
     "text": [
      "TRAIN : Mean Absolute Error: 840.0684250313367\n",
      "TRAIN : Mean Squared Error: 1468633.5716681674\n",
      "TRAIN : R2 Score: 0.9083138776247277\n",
      "TRAIN : Root Mean Squared Error: 1211.8719287400659\n",
      "----------------------------------------------------------\n",
      "TEST : Mean Absolute Error: 849.8189611966802\n",
      "TEST : Mean Squared Error: 1536122.2671692513\n",
      "TEST : R2 Score: 0.9058272571071448\n",
      "TEST : Root Mean Squared Error: 1239.403996753783\n"
     ]
    }
   ],
   "source": [
    "#TRAIN:\n",
    "print('TRAIN : Mean Absolute Error:', metrics.mean_absolute_error(y_train, y_pred_train_ridge ))\n",
    "print('TRAIN : Mean Squared Error:', metrics.mean_squared_error(y_train, y_pred_train_ridge ))\n",
    "print('TRAIN : R2 Score:', r2_score(y_train, y_pred_train_ridge ))\n",
    "print('TRAIN : Root Mean Squared Error:', np.sqrt(metrics.mean_squared_error(y_train, y_pred_train_ridge )))\n",
    "print ('----------------------------------------------------------')\n",
    "#TEST:\n",
    "print('TEST : Mean Absolute Error:', metrics.mean_absolute_error(y_test, y_pred_test_ridge ))\n",
    "print('TEST : Mean Squared Error:', metrics.mean_squared_error(y_test, y_pred_test_ridge ))\n",
    "print('TEST : R2 Score:', r2_score(y_test, y_pred_test_ridge))\n",
    "print('TEST : Root Mean Squared Error:', np.sqrt(metrics.mean_squared_error(y_test, y_pred_test_ridge )))"
   ]
  },
  {
   "cell_type": "markdown",
   "metadata": {},
   "source": [
    "#### Cross validation : "
   ]
  },
  {
   "cell_type": "code",
   "execution_count": 19,
   "metadata": {},
   "outputs": [
    {
     "data": {
      "text/plain": [
       "array([-1238.61084476, -1197.63085032, -1199.55610937])"
      ]
     },
     "execution_count": 19,
     "metadata": {},
     "output_type": "execute_result"
    }
   ],
   "source": [
    "scores_ridge = cross_val_score(lasso, X_train, y_train, cv=3, scoring='neg_root_mean_squared_error')\n",
    "scores_ridge"
   ]
  },
  {
   "cell_type": "markdown",
   "metadata": {},
   "source": [
    "## 4. DECISSION TREE"
   ]
  },
  {
   "cell_type": "code",
   "execution_count": 20,
   "metadata": {},
   "outputs": [],
   "source": [
    "tree = DecisionTreeClassifier(max_depth = 3)\n",
    "tree.fit(X_train, y_train)\n",
    "y_pred_train_tree = tree.predict(X_train)\n",
    "y_pred_test_tree = tree.predict(X_test)"
   ]
  },
  {
   "cell_type": "code",
   "execution_count": 21,
   "metadata": {},
   "outputs": [
    {
     "name": "stdout",
     "output_type": "stream",
     "text": [
      "TRAIN : Mean Absolute Error: 3197.7442528735633\n",
      "TRAIN : Mean Squared Error: 25781150.642349523\n",
      "TRAIN : R2 Score: -0.6095054466750771\n",
      "TRAIN : Root Mean Squared Error: 5077.514218822978\n",
      "----------------------------------------------------------\n",
      "TEST : Mean Absolute Error: 3217.8739340007414\n",
      "TEST : Mean Squared Error: 26207376.826103076\n",
      "TRAIN : R2 Score: -0.6066563270961598\n",
      "TEST : Root Mean Squared Error: 5119.314097230515\n"
     ]
    }
   ],
   "source": [
    "from sklearn import metrics\n",
    "#TRAIN:\n",
    "print('TRAIN : Mean Absolute Error:', metrics.mean_absolute_error(y_train, y_pred_train_tree))\n",
    "print('TRAIN : Mean Squared Error:', metrics.mean_squared_error(y_train, y_pred_train_tree))\n",
    "print('TRAIN : R2 Score:', r2_score(y_train, y_pred_train_tree ))\n",
    "print('TRAIN : Root Mean Squared Error:', np.sqrt(metrics.mean_squared_error(y_train, y_pred_train_tree)))\n",
    "print ('----------------------------------------------------------')\n",
    "#TEST:\n",
    "print('TEST : Mean Absolute Error:', metrics.mean_absolute_error(y_test, y_pred_test_tree ))\n",
    "print('TEST : Mean Squared Error:', metrics.mean_squared_error(y_test, y_pred_test_tree ))\n",
    "print('TRAIN : R2 Score:', r2_score(y_test, y_pred_test_tree ))\n",
    "print('TEST : Root Mean Squared Error:', np.sqrt(metrics.mean_squared_error(y_test, y_pred_test_tree )))"
   ]
  },
  {
   "cell_type": "markdown",
   "metadata": {},
   "source": [
    "#### Cross validation:"
   ]
  },
  {
   "cell_type": "code",
   "execution_count": 22,
   "metadata": {},
   "outputs": [
    {
     "name": "stderr",
     "output_type": "stream",
     "text": [
      "/home/ubuntu/.local/lib/python3.8/site-packages/sklearn/model_selection/_split.py:670: UserWarning: The least populated class in y has only 1 members, which is less than n_splits=3.\n",
      "  warnings.warn((\"The least populated class in y has only %d\"\n"
     ]
    },
    {
     "data": {
      "text/plain": [
       "array([-5118.60398967, -5053.8087188 , -5060.02403421])"
      ]
     },
     "execution_count": 22,
     "metadata": {},
     "output_type": "execute_result"
    }
   ],
   "source": [
    "scores_tree = cross_val_score(tree, X_train, y_train, cv=3, scoring='neg_root_mean_squared_error')\n",
    "scores_tree"
   ]
  },
  {
   "cell_type": "markdown",
   "metadata": {},
   "source": [
    "## 5. RANDOM FOREST"
   ]
  },
  {
   "cell_type": "code",
   "execution_count": 23,
   "metadata": {},
   "outputs": [],
   "source": [
    "randforest = RandomForestRegressor(n_estimators=20, random_state=10)\n",
    "randforest.fit(X_train, y_train)\n",
    "y_pred_train_randforest = randforest.predict(X_train)\n",
    "y_pred_test_randforest = randforest.predict(X_test)"
   ]
  },
  {
   "cell_type": "code",
   "execution_count": 24,
   "metadata": {},
   "outputs": [
    {
     "name": "stdout",
     "output_type": "stream",
     "text": [
      "TRAIN : Mean Absolute Error: 117.12403937029957\n",
      "TRAIN : Mean Squared Error: 52104.98567449762\n",
      "TRAIN : R2 Score: 0.9967471095683266\n",
      "TRAIN : Root Mean Squared Error: 228.26516526727775\n",
      "----------------------------------------------------------\n",
      "TEST : Mean Absolute Error: 291.1828631025281\n",
      "TEST : Mean Squared Error: 316928.6148796818\n",
      "TRAIN : R2 Score: 0.9805705329566943\n",
      "TEST : Root Mean Squared Error: 562.9641328536675\n"
     ]
    }
   ],
   "source": [
    "#TRAIN:\n",
    "print('TRAIN : Mean Absolute Error:', metrics.mean_absolute_error(y_train, y_pred_train_randforest))\n",
    "print('TRAIN : Mean Squared Error:', metrics.mean_squared_error(y_train, y_pred_train_randforest))\n",
    "print('TRAIN : R2 Score:', r2_score(y_train, y_pred_train_randforest ))\n",
    "print('TRAIN : Root Mean Squared Error:', np.sqrt(metrics.mean_squared_error(y_train, y_pred_train_randforest)))\n",
    "print ('----------------------------------------------------------')\n",
    "#TEST:\n",
    "print('TEST : Mean Absolute Error:', metrics.mean_absolute_error(y_test, y_pred_test_randforest ))\n",
    "print('TEST : Mean Squared Error:', metrics.mean_squared_error(y_test, y_pred_test_randforest ))\n",
    "print('TRAIN : R2 Score:', r2_score(y_test, y_pred_test_randforest ))\n",
    "print('TEST : Root Mean Squared Error:', np.sqrt(metrics.mean_squared_error(y_test, y_pred_test_randforest )))"
   ]
  },
  {
   "cell_type": "markdown",
   "metadata": {},
   "source": [
    "#### Cross validation:"
   ]
  },
  {
   "cell_type": "code",
   "execution_count": 25,
   "metadata": {},
   "outputs": [
    {
     "data": {
      "text/plain": [
       "array([-589.24480233, -566.95978741, -581.47593902])"
      ]
     },
     "execution_count": 25,
     "metadata": {},
     "output_type": "execute_result"
    }
   ],
   "source": [
    "scores_randforest = cross_val_score(randforest, X_train, y_train, cv=3, scoring='neg_root_mean_squared_error')\n",
    "scores_randforest"
   ]
  },
  {
   "cell_type": "markdown",
   "metadata": {},
   "source": [
    "## 6. K-NEAREST NEIGHBOR"
   ]
  },
  {
   "cell_type": "code",
   "execution_count": 26,
   "metadata": {},
   "outputs": [
    {
     "data": {
      "text/plain": [
       "KNeighborsClassifier()"
      ]
     },
     "execution_count": 26,
     "metadata": {},
     "output_type": "execute_result"
    }
   ],
   "source": [
    "neiclass = KNeighborsClassifier(n_neighbors=5)\n",
    "neiclass.fit(X_train, y_train)"
   ]
  },
  {
   "cell_type": "code",
   "execution_count": 27,
   "metadata": {},
   "outputs": [],
   "source": [
    "y_pred_train_neiclass = neiclass.predict(X_train)\n",
    "y_pred_test_neiclass = neiclass.predict(X_test)"
   ]
  },
  {
   "cell_type": "code",
   "execution_count": 28,
   "metadata": {},
   "outputs": [
    {
     "name": "stdout",
     "output_type": "stream",
     "text": [
      "TRAIN : Mean Absolute Error: 780.130175503646\n",
      "TRAIN : Mean Squared Error: 1948727.1169509331\n",
      "TRAIN : R2 Score: 0.8783418571061067\n",
      "TRAIN : Root Mean Squared Error: 1395.9681647340433\n",
      "----------------------------------------------------------\n",
      "TEST : Mean Absolute Error: 947.2981090100111\n",
      "TEST : Mean Squared Error: 2493769.2956371275\n",
      "TRAIN : R2 Score: 0.847118227675391\n",
      "TEST : Root Mean Squared Error: 1579.1672791813814\n"
     ]
    }
   ],
   "source": [
    "#TRAIN:\n",
    "print('TRAIN : Mean Absolute Error:', metrics.mean_absolute_error(y_train, y_pred_train_neiclass))\n",
    "print('TRAIN : Mean Squared Error:', metrics.mean_squared_error(y_train, y_pred_train_neiclass))\n",
    "print('TRAIN : R2 Score:', r2_score(y_train, y_pred_train_neiclass ))\n",
    "print('TRAIN : Root Mean Squared Error:', np.sqrt(metrics.mean_squared_error(y_train, y_pred_train_neiclass)))\n",
    "print ('----------------------------------------------------------')\n",
    "#TEST:\n",
    "print('TEST : Mean Absolute Error:', metrics.mean_absolute_error(y_test, y_pred_test_neiclass ))\n",
    "print('TEST : Mean Squared Error:', metrics.mean_squared_error(y_test, y_pred_test_neiclass ))\n",
    "print('TRAIN : R2 Score:', r2_score(y_test, y_pred_test_neiclass ))\n",
    "print('TEST : Root Mean Squared Error:', np.sqrt(metrics.mean_squared_error(y_test, y_pred_test_neiclass )))"
   ]
  },
  {
   "cell_type": "markdown",
   "metadata": {},
   "source": [
    "#### Cross validation:"
   ]
  },
  {
   "cell_type": "code",
   "execution_count": 29,
   "metadata": {},
   "outputs": [
    {
     "name": "stderr",
     "output_type": "stream",
     "text": [
      "/home/ubuntu/.local/lib/python3.8/site-packages/sklearn/model_selection/_split.py:670: UserWarning: The least populated class in y has only 1 members, which is less than n_splits=3.\n",
      "  warnings.warn((\"The least populated class in y has only %d\"\n"
     ]
    },
    {
     "data": {
      "text/plain": [
       "array([-1684.32544902, -1629.24545883, -1635.46588583])"
      ]
     },
     "execution_count": 29,
     "metadata": {},
     "output_type": "execute_result"
    }
   ],
   "source": [
    "scores_neighclass = cross_val_score(neiclass, X_train, y_train, cv=3, scoring='neg_root_mean_squared_error')\n",
    "scores_neighclass"
   ]
  },
  {
   "cell_type": "markdown",
   "metadata": {},
   "source": [
    "## 7. BAYESIAN RIDGE"
   ]
  },
  {
   "cell_type": "code",
   "execution_count": 30,
   "metadata": {},
   "outputs": [
    {
     "data": {
      "text/plain": [
       "BayesianRidge()"
      ]
     },
     "execution_count": 30,
     "metadata": {},
     "output_type": "execute_result"
    }
   ],
   "source": [
    "bay = BayesianRidge() \n",
    "bay.fit(X_train, y_train) "
   ]
  },
  {
   "cell_type": "code",
   "execution_count": 31,
   "metadata": {},
   "outputs": [],
   "source": [
    "y_pred_train_bay = bay.predict(X_train)\n",
    "y_pred_test_bay = bay.predict(X_test)"
   ]
  },
  {
   "cell_type": "code",
   "execution_count": 32,
   "metadata": {},
   "outputs": [
    {
     "name": "stdout",
     "output_type": "stream",
     "text": [
      "TRAIN : Mean Absolute Error: 840.0819498783176\n",
      "TRAIN : Mean Squared Error: 1468633.5490519234\n",
      "TRAIN : R2 Score: 0.9083138790366495\n",
      "TRAIN : Root Mean Squared Error: 1211.8719194089463\n",
      "----------------------------------------------------------\n",
      "TEST : Mean Absolute Error: 849.8314249918858\n",
      "TEST : Mean Squared Error: 1536118.5431753665\n",
      "TRAIN : R2 Score: 0.9058274854084502\n",
      "TEST : Root Mean Squared Error: 1239.4024944203422\n"
     ]
    }
   ],
   "source": [
    "#TRAIN:\n",
    "print('TRAIN : Mean Absolute Error:', metrics.mean_absolute_error(y_train, y_pred_train_bay))\n",
    "print('TRAIN : Mean Squared Error:', metrics.mean_squared_error(y_train, y_pred_train_bay))\n",
    "print('TRAIN : R2 Score:', r2_score(y_train, y_pred_train_bay ))\n",
    "print('TRAIN : Root Mean Squared Error:', np.sqrt(metrics.mean_squared_error(y_train, y_pred_train_bay)))\n",
    "print ('----------------------------------------------------------')\n",
    "#TEST:\n",
    "print('TEST : Mean Absolute Error:', metrics.mean_absolute_error(y_test, y_pred_test_bay  ))\n",
    "print('TEST : Mean Squared Error:', metrics.mean_squared_error(y_test, y_pred_test_bay  ))\n",
    "print('TRAIN : R2 Score:', r2_score(y_test, y_pred_test_bay ))\n",
    "print('TEST : Root Mean Squared Error:', np.sqrt(metrics.mean_squared_error(y_test, y_pred_test_bay  )))"
   ]
  },
  {
   "cell_type": "markdown",
   "metadata": {},
   "source": [
    "#### Cross validation:"
   ]
  },
  {
   "cell_type": "code",
   "execution_count": 33,
   "metadata": {},
   "outputs": [
    {
     "data": {
      "text/plain": [
       "array([-1238.61266401, -1197.65077453, -1199.52516072])"
      ]
     },
     "execution_count": 33,
     "metadata": {},
     "output_type": "execute_result"
    }
   ],
   "source": [
    "scores_bay = cross_val_score(bay, X_train, y_train, cv=3, scoring='neg_root_mean_squared_error')\n",
    "scores_bay"
   ]
  },
  {
   "cell_type": "markdown",
   "metadata": {},
   "source": [
    "## 8. ELASTIC NET"
   ]
  },
  {
   "cell_type": "code",
   "execution_count": 34,
   "metadata": {},
   "outputs": [
    {
     "data": {
      "text/plain": [
       "ElasticNet(random_state=0)"
      ]
     },
     "execution_count": 34,
     "metadata": {},
     "output_type": "execute_result"
    }
   ],
   "source": [
    "elnet = ElasticNet(random_state=0)\n",
    "elnet.fit(X_train, y_train)"
   ]
  },
  {
   "cell_type": "code",
   "execution_count": 35,
   "metadata": {},
   "outputs": [],
   "source": [
    "y_pred_train_elnet = elnet.predict(X_train)\n",
    "y_pred_test_elnet = elnet.predict(X_test)"
   ]
  },
  {
   "cell_type": "code",
   "execution_count": 36,
   "metadata": {},
   "outputs": [
    {
     "name": "stdout",
     "output_type": "stream",
     "text": [
      "TRAIN : Mean Absolute Error: 1293.7728638320589\n",
      "TRAIN : Mean Squared Error: 3682524.109297868\n",
      "TRAIN : R2 Score: 0.770101703618646\n",
      "TRAIN : Root Mean Squared Error: 1918.9903880160182\n",
      "----------------------------------------------------------\n",
      "TEST : Mean Absolute Error: 1317.4766352458994\n",
      "TEST : Mean Squared Error: 3853165.1123562744\n",
      "TRAIN : R2 Score: 0.7637797881035038\n",
      "TEST : Root Mean Squared Error: 1962.9480666477843\n"
     ]
    }
   ],
   "source": [
    "#TRAIN:\n",
    "print('TRAIN : Mean Absolute Error:', metrics.mean_absolute_error(y_train, y_pred_train_elnet))\n",
    "print('TRAIN : Mean Squared Error:', metrics.mean_squared_error(y_train, y_pred_train_elnet))\n",
    "print('TRAIN : R2 Score:', r2_score(y_train, y_pred_train_elnet ))\n",
    "print('TRAIN : Root Mean Squared Error:', np.sqrt(metrics.mean_squared_error(y_train, y_pred_train_elnet)))\n",
    "print ('----------------------------------------------------------')\n",
    "#TEST:\n",
    "print('TEST : Mean Absolute Error:', metrics.mean_absolute_error(y_test, y_pred_test_elnet))\n",
    "print('TEST : Mean Squared Error:', metrics.mean_squared_error(y_test, y_pred_test_elnet))\n",
    "print('TRAIN : R2 Score:', r2_score(y_test, y_pred_test_elnet ))\n",
    "print('TEST : Root Mean Squared Error:', np.sqrt(metrics.mean_squared_error(y_test, y_pred_test_elnet)))"
   ]
  },
  {
   "cell_type": "markdown",
   "metadata": {},
   "source": [
    "#### Cross validation:"
   ]
  },
  {
   "cell_type": "code",
   "execution_count": 37,
   "metadata": {},
   "outputs": [
    {
     "data": {
      "text/plain": [
       "array([-1948.96537436, -1905.40019551, -1903.52576474])"
      ]
     },
     "execution_count": 37,
     "metadata": {},
     "output_type": "execute_result"
    }
   ],
   "source": [
    "scores_elnet = cross_val_score(elnet, X_train, y_train, cv=3, scoring='neg_root_mean_squared_error')\n",
    "scores_elnet"
   ]
  },
  {
   "cell_type": "code",
   "execution_count": null,
   "metadata": {},
   "outputs": [],
   "source": []
  },
  {
   "cell_type": "code",
   "execution_count": null,
   "metadata": {},
   "outputs": [],
   "source": []
  },
  {
   "cell_type": "code",
   "execution_count": null,
   "metadata": {},
   "outputs": [],
   "source": []
  },
  {
   "cell_type": "markdown",
   "metadata": {},
   "source": [
    "## Modify train_size"
   ]
  },
  {
   "cell_type": "code",
   "execution_count": 38,
   "metadata": {},
   "outputs": [],
   "source": [
    "X_train2, X_test2, y_train2, y_test2 = train_test_split( X, y, train_size=0.9)"
   ]
  },
  {
   "cell_type": "markdown",
   "metadata": {},
   "source": [
    "## 1.1 LINEAR REGRESSION"
   ]
  },
  {
   "cell_type": "code",
   "execution_count": 39,
   "metadata": {},
   "outputs": [],
   "source": [
    "#We will try it with the model with the lower rmse, in this case : linear regression"
   ]
  },
  {
   "cell_type": "code",
   "execution_count": 40,
   "metadata": {},
   "outputs": [
    {
     "data": {
      "text/plain": [
       "LinearRegression()"
      ]
     },
     "execution_count": 40,
     "metadata": {},
     "output_type": "execute_result"
    }
   ],
   "source": [
    "#Train the model\n",
    "lr_2 = LinearRegression()\n",
    "lr_2.fit(X_train2, y_train2)"
   ]
  },
  {
   "cell_type": "code",
   "execution_count": 41,
   "metadata": {},
   "outputs": [],
   "source": [
    "y_pred_train_lr_2 = lr_2.predict(X_train2)\n",
    "y_pred_test_lr_2 = lr_2.predict(X_test2)"
   ]
  },
  {
   "cell_type": "code",
   "execution_count": 42,
   "metadata": {},
   "outputs": [
    {
     "name": "stdout",
     "output_type": "stream",
     "text": [
      "TRAIN : Mean Absolute Error: 843.464458884492\n",
      "TRAIN : Mean Squared Error: 1467581.0102942032\n",
      "TRAIN : R2 Score: 0.9088113723881722\n",
      "TRAIN : Root Mean Squared Error: 1211.4375800239166\n",
      "----------------------------------------------------------\n",
      "TEST : Mean Absolute Error: 845.6628231059516\n",
      "TEST : Mean Squared Error: 1612677.8726508885\n",
      "TEST : R2 Score: 0.8987236888837004\n",
      "TEST : Root Mean Squared Error: 1269.9125452765984\n"
     ]
    }
   ],
   "source": [
    "#TRAIN:\n",
    "print('TRAIN : Mean Absolute Error:', metrics.mean_absolute_error(y_train2, y_pred_train_lr_2  ))\n",
    "print('TRAIN : Mean Squared Error:', metrics.mean_squared_error(y_train2, y_pred_train_lr_2  ))\n",
    "print('TRAIN : R2 Score:', r2_score(y_train2, y_pred_train_lr_2  ))\n",
    "print('TRAIN : Root Mean Squared Error:', np.sqrt(metrics.mean_squared_error(y_train2, y_pred_train_lr_2  )))\n",
    "print ('----------------------------------------------------------')\n",
    "#TEST:\n",
    "print('TEST : Mean Absolute Error:', metrics.mean_absolute_error(y_test2, y_pred_test_lr_2 ))\n",
    "print('TEST : Mean Squared Error:', metrics.mean_squared_error(y_test2, y_pred_test_lr_2 ))\n",
    "print('TEST : R2 Score:', r2_score(y_test2, y_pred_test_lr_2))\n",
    "print('TEST : Root Mean Squared Error:', np.sqrt(metrics.mean_squared_error(y_test2, y_pred_test_lr_2 )))"
   ]
  },
  {
   "cell_type": "markdown",
   "metadata": {},
   "source": [
    "#### Cross validation:"
   ]
  },
  {
   "cell_type": "code",
   "execution_count": 43,
   "metadata": {},
   "outputs": [
    {
     "data": {
      "text/plain": [
       "array([-1181.92206622, -1221.40415956, -1232.07307878])"
      ]
     },
     "execution_count": 43,
     "metadata": {},
     "output_type": "execute_result"
    }
   ],
   "source": [
    "scores_lr_2 = cross_val_score(lr_2, X_train2, y_train2, cv=3, scoring='neg_root_mean_squared_error')\n",
    "scores_lr_2"
   ]
  },
  {
   "cell_type": "code",
   "execution_count": null,
   "metadata": {},
   "outputs": [],
   "source": []
  },
  {
   "cell_type": "code",
   "execution_count": null,
   "metadata": {},
   "outputs": [],
   "source": []
  },
  {
   "cell_type": "code",
   "execution_count": null,
   "metadata": {},
   "outputs": [],
   "source": []
  },
  {
   "cell_type": "code",
   "execution_count": null,
   "metadata": {},
   "outputs": [],
   "source": []
  },
  {
   "cell_type": "code",
   "execution_count": null,
   "metadata": {},
   "outputs": [],
   "source": []
  },
  {
   "cell_type": "markdown",
   "metadata": {},
   "source": [
    "# Lets introduce the second dataset"
   ]
  },
  {
   "cell_type": "code",
   "execution_count": 44,
   "metadata": {},
   "outputs": [],
   "source": [
    "#import the dataset:\n",
    "dmd_pred = pd.read_csv(\"../resources/predict.csv\",index_col=\"id\")"
   ]
  },
  {
   "cell_type": "code",
   "execution_count": 45,
   "metadata": {},
   "outputs": [
    {
     "data": {
      "text/html": [
       "<div>\n",
       "<style scoped>\n",
       "    .dataframe tbody tr th:only-of-type {\n",
       "        vertical-align: middle;\n",
       "    }\n",
       "\n",
       "    .dataframe tbody tr th {\n",
       "        vertical-align: top;\n",
       "    }\n",
       "\n",
       "    .dataframe thead th {\n",
       "        text-align: right;\n",
       "    }\n",
       "</style>\n",
       "<table border=\"1\" class=\"dataframe\">\n",
       "  <thead>\n",
       "    <tr style=\"text-align: right;\">\n",
       "      <th></th>\n",
       "      <th>carat</th>\n",
       "      <th>cut</th>\n",
       "      <th>color</th>\n",
       "      <th>clarity</th>\n",
       "      <th>depth</th>\n",
       "      <th>table</th>\n",
       "      <th>x</th>\n",
       "      <th>y</th>\n",
       "      <th>z</th>\n",
       "    </tr>\n",
       "    <tr>\n",
       "      <th>id</th>\n",
       "      <th></th>\n",
       "      <th></th>\n",
       "      <th></th>\n",
       "      <th></th>\n",
       "      <th></th>\n",
       "      <th></th>\n",
       "      <th></th>\n",
       "      <th></th>\n",
       "      <th></th>\n",
       "    </tr>\n",
       "  </thead>\n",
       "  <tbody>\n",
       "    <tr>\n",
       "      <th>0</th>\n",
       "      <td>0.45</td>\n",
       "      <td>Premium</td>\n",
       "      <td>E</td>\n",
       "      <td>SI1</td>\n",
       "      <td>62.8</td>\n",
       "      <td>58.0</td>\n",
       "      <td>4.88</td>\n",
       "      <td>4.84</td>\n",
       "      <td>3.05</td>\n",
       "    </tr>\n",
       "    <tr>\n",
       "      <th>1</th>\n",
       "      <td>1.23</td>\n",
       "      <td>Ideal</td>\n",
       "      <td>H</td>\n",
       "      <td>SI1</td>\n",
       "      <td>61.0</td>\n",
       "      <td>56.0</td>\n",
       "      <td>6.96</td>\n",
       "      <td>6.92</td>\n",
       "      <td>4.23</td>\n",
       "    </tr>\n",
       "    <tr>\n",
       "      <th>2</th>\n",
       "      <td>0.33</td>\n",
       "      <td>Ideal</td>\n",
       "      <td>I</td>\n",
       "      <td>IF</td>\n",
       "      <td>61.8</td>\n",
       "      <td>55.0</td>\n",
       "      <td>4.46</td>\n",
       "      <td>4.47</td>\n",
       "      <td>2.76</td>\n",
       "    </tr>\n",
       "    <tr>\n",
       "      <th>3</th>\n",
       "      <td>0.51</td>\n",
       "      <td>Premium</td>\n",
       "      <td>D</td>\n",
       "      <td>VS2</td>\n",
       "      <td>58.0</td>\n",
       "      <td>60.0</td>\n",
       "      <td>5.29</td>\n",
       "      <td>5.26</td>\n",
       "      <td>3.06</td>\n",
       "    </tr>\n",
       "    <tr>\n",
       "      <th>4</th>\n",
       "      <td>0.40</td>\n",
       "      <td>Premium</td>\n",
       "      <td>E</td>\n",
       "      <td>VS2</td>\n",
       "      <td>62.2</td>\n",
       "      <td>59.0</td>\n",
       "      <td>4.71</td>\n",
       "      <td>4.74</td>\n",
       "      <td>2.94</td>\n",
       "    </tr>\n",
       "  </tbody>\n",
       "</table>\n",
       "</div>"
      ],
      "text/plain": [
       "    carat      cut color clarity  depth  table     x     y     z\n",
       "id                                                              \n",
       "0    0.45  Premium     E     SI1   62.8   58.0  4.88  4.84  3.05\n",
       "1    1.23    Ideal     H     SI1   61.0   56.0  6.96  6.92  4.23\n",
       "2    0.33    Ideal     I      IF   61.8   55.0  4.46  4.47  2.76\n",
       "3    0.51  Premium     D     VS2   58.0   60.0  5.29  5.26  3.06\n",
       "4    0.40  Premium     E     VS2   62.2   59.0  4.71  4.74  2.94"
      ]
     },
     "execution_count": 45,
     "metadata": {},
     "output_type": "execute_result"
    }
   ],
   "source": [
    "dmd_pred.head()"
   ]
  },
  {
   "cell_type": "code",
   "execution_count": 46,
   "metadata": {},
   "outputs": [],
   "source": [
    "# Same steps as with the dataset above:"
   ]
  },
  {
   "cell_type": "code",
   "execution_count": 47,
   "metadata": {},
   "outputs": [],
   "source": [
    "dmd_pred = dmd_pred.drop(columns = ['x','y','z'])"
   ]
  },
  {
   "cell_type": "code",
   "execution_count": 48,
   "metadata": {},
   "outputs": [],
   "source": [
    "dmd_pred[\"cut\"].replace({\"Ideal\": 5, \"Premium\": 4, \"Very Good\" : 3, \"Good\" : 2, \"Fair\" : 1}, inplace=True)\n",
    "dmd_pred[\"color\"].replace({\"D\": 7, \"E\": 6, \"F\" : 5, \"G\" : 4, \"H\" : 3, \"I\": 2 , \"J\": 1}, inplace=True)\n",
    "dmd_pred[\"clarity\"].replace({\"IF\": 9, \"VVS1\": 8, \"VVS2\" : 7, \n",
    "                             \"VS1\" : 6, \"VS2\" : 5, \"SI1\": 4, \n",
    "                             \"SI2\" : 2, \"I1\": 1 }, inplace=True)"
   ]
  },
  {
   "cell_type": "code",
   "execution_count": 49,
   "metadata": {},
   "outputs": [
    {
     "data": {
      "text/html": [
       "<div>\n",
       "<style scoped>\n",
       "    .dataframe tbody tr th:only-of-type {\n",
       "        vertical-align: middle;\n",
       "    }\n",
       "\n",
       "    .dataframe tbody tr th {\n",
       "        vertical-align: top;\n",
       "    }\n",
       "\n",
       "    .dataframe thead th {\n",
       "        text-align: right;\n",
       "    }\n",
       "</style>\n",
       "<table border=\"1\" class=\"dataframe\">\n",
       "  <thead>\n",
       "    <tr style=\"text-align: right;\">\n",
       "      <th></th>\n",
       "      <th>carat</th>\n",
       "      <th>cut</th>\n",
       "      <th>color</th>\n",
       "      <th>clarity</th>\n",
       "      <th>depth</th>\n",
       "      <th>table</th>\n",
       "    </tr>\n",
       "    <tr>\n",
       "      <th>id</th>\n",
       "      <th></th>\n",
       "      <th></th>\n",
       "      <th></th>\n",
       "      <th></th>\n",
       "      <th></th>\n",
       "      <th></th>\n",
       "    </tr>\n",
       "  </thead>\n",
       "  <tbody>\n",
       "    <tr>\n",
       "      <th>0</th>\n",
       "      <td>0.45</td>\n",
       "      <td>4</td>\n",
       "      <td>6</td>\n",
       "      <td>4</td>\n",
       "      <td>62.8</td>\n",
       "      <td>58.0</td>\n",
       "    </tr>\n",
       "    <tr>\n",
       "      <th>1</th>\n",
       "      <td>1.23</td>\n",
       "      <td>5</td>\n",
       "      <td>3</td>\n",
       "      <td>4</td>\n",
       "      <td>61.0</td>\n",
       "      <td>56.0</td>\n",
       "    </tr>\n",
       "    <tr>\n",
       "      <th>2</th>\n",
       "      <td>0.33</td>\n",
       "      <td>5</td>\n",
       "      <td>2</td>\n",
       "      <td>9</td>\n",
       "      <td>61.8</td>\n",
       "      <td>55.0</td>\n",
       "    </tr>\n",
       "    <tr>\n",
       "      <th>3</th>\n",
       "      <td>0.51</td>\n",
       "      <td>4</td>\n",
       "      <td>7</td>\n",
       "      <td>5</td>\n",
       "      <td>58.0</td>\n",
       "      <td>60.0</td>\n",
       "    </tr>\n",
       "    <tr>\n",
       "      <th>4</th>\n",
       "      <td>0.40</td>\n",
       "      <td>4</td>\n",
       "      <td>6</td>\n",
       "      <td>5</td>\n",
       "      <td>62.2</td>\n",
       "      <td>59.0</td>\n",
       "    </tr>\n",
       "  </tbody>\n",
       "</table>\n",
       "</div>"
      ],
      "text/plain": [
       "    carat  cut  color  clarity  depth  table\n",
       "id                                          \n",
       "0    0.45    4      6        4   62.8   58.0\n",
       "1    1.23    5      3        4   61.0   56.0\n",
       "2    0.33    5      2        9   61.8   55.0\n",
       "3    0.51    4      7        5   58.0   60.0\n",
       "4    0.40    4      6        5   62.2   59.0"
      ]
     },
     "execution_count": 49,
     "metadata": {},
     "output_type": "execute_result"
    }
   ],
   "source": [
    "dmd_pred.head()"
   ]
  },
  {
   "cell_type": "code",
   "execution_count": null,
   "metadata": {},
   "outputs": [],
   "source": []
  },
  {
   "cell_type": "code",
   "execution_count": null,
   "metadata": {},
   "outputs": [],
   "source": []
  },
  {
   "cell_type": "code",
   "execution_count": null,
   "metadata": {},
   "outputs": [],
   "source": []
  },
  {
   "cell_type": "code",
   "execution_count": 52,
   "metadata": {},
   "outputs": [],
   "source": [
    "y_pred_predict_test = lr_2 .predict(dmd_pred)"
   ]
  },
  {
   "cell_type": "code",
   "execution_count": 53,
   "metadata": {},
   "outputs": [
    {
     "data": {
      "text/plain": [
       "array([ 905.25119541, 7116.35146334, 1146.81679163, ..., 1645.79019377,\n",
       "       -479.73666509, 4922.00233806])"
      ]
     },
     "execution_count": 53,
     "metadata": {},
     "output_type": "execute_result"
    }
   ],
   "source": [
    "y_pred_predict_test"
   ]
  },
  {
   "cell_type": "code",
   "execution_count": null,
   "metadata": {},
   "outputs": [],
   "source": []
  },
  {
   "cell_type": "code",
   "execution_count": null,
   "metadata": {},
   "outputs": [],
   "source": []
  },
  {
   "cell_type": "code",
   "execution_count": null,
   "metadata": {},
   "outputs": [],
   "source": []
  },
  {
   "cell_type": "code",
   "execution_count": 54,
   "metadata": {},
   "outputs": [
    {
     "data": {
      "text/html": [
       "<div>\n",
       "<style scoped>\n",
       "    .dataframe tbody tr th:only-of-type {\n",
       "        vertical-align: middle;\n",
       "    }\n",
       "\n",
       "    .dataframe tbody tr th {\n",
       "        vertical-align: top;\n",
       "    }\n",
       "\n",
       "    .dataframe thead th {\n",
       "        text-align: right;\n",
       "    }\n",
       "</style>\n",
       "<table border=\"1\" class=\"dataframe\">\n",
       "  <thead>\n",
       "    <tr style=\"text-align: right;\">\n",
       "      <th></th>\n",
       "      <th>carat</th>\n",
       "      <th>cut</th>\n",
       "      <th>color</th>\n",
       "      <th>clarity</th>\n",
       "      <th>depth</th>\n",
       "      <th>table</th>\n",
       "      <th>price</th>\n",
       "    </tr>\n",
       "    <tr>\n",
       "      <th>id</th>\n",
       "      <th></th>\n",
       "      <th></th>\n",
       "      <th></th>\n",
       "      <th></th>\n",
       "      <th></th>\n",
       "      <th></th>\n",
       "      <th></th>\n",
       "    </tr>\n",
       "  </thead>\n",
       "  <tbody>\n",
       "    <tr>\n",
       "      <th>0</th>\n",
       "      <td>0.45</td>\n",
       "      <td>4</td>\n",
       "      <td>6</td>\n",
       "      <td>4</td>\n",
       "      <td>62.8</td>\n",
       "      <td>58.0</td>\n",
       "      <td>905.251195</td>\n",
       "    </tr>\n",
       "    <tr>\n",
       "      <th>1</th>\n",
       "      <td>1.23</td>\n",
       "      <td>5</td>\n",
       "      <td>3</td>\n",
       "      <td>4</td>\n",
       "      <td>61.0</td>\n",
       "      <td>56.0</td>\n",
       "      <td>7116.351463</td>\n",
       "    </tr>\n",
       "    <tr>\n",
       "      <th>2</th>\n",
       "      <td>0.33</td>\n",
       "      <td>5</td>\n",
       "      <td>2</td>\n",
       "      <td>9</td>\n",
       "      <td>61.8</td>\n",
       "      <td>55.0</td>\n",
       "      <td>1146.816792</td>\n",
       "    </tr>\n",
       "    <tr>\n",
       "      <th>3</th>\n",
       "      <td>0.51</td>\n",
       "      <td>4</td>\n",
       "      <td>7</td>\n",
       "      <td>5</td>\n",
       "      <td>58.0</td>\n",
       "      <td>60.0</td>\n",
       "      <td>2386.512924</td>\n",
       "    </tr>\n",
       "    <tr>\n",
       "      <th>4</th>\n",
       "      <td>0.40</td>\n",
       "      <td>4</td>\n",
       "      <td>6</td>\n",
       "      <td>5</td>\n",
       "      <td>62.2</td>\n",
       "      <td>59.0</td>\n",
       "      <td>927.662883</td>\n",
       "    </tr>\n",
       "  </tbody>\n",
       "</table>\n",
       "</div>"
      ],
      "text/plain": [
       "    carat  cut  color  clarity  depth  table        price\n",
       "id                                                       \n",
       "0    0.45    4      6        4   62.8   58.0   905.251195\n",
       "1    1.23    5      3        4   61.0   56.0  7116.351463\n",
       "2    0.33    5      2        9   61.8   55.0  1146.816792\n",
       "3    0.51    4      7        5   58.0   60.0  2386.512924\n",
       "4    0.40    4      6        5   62.2   59.0   927.662883"
      ]
     },
     "execution_count": 54,
     "metadata": {},
     "output_type": "execute_result"
    }
   ],
   "source": [
    "dmd_pred['price'] = y_pred_predict_test\n",
    "dmd_pred.head()"
   ]
  },
  {
   "cell_type": "code",
   "execution_count": null,
   "metadata": {},
   "outputs": [],
   "source": []
  },
  {
   "cell_type": "code",
   "execution_count": null,
   "metadata": {},
   "outputs": [],
   "source": []
  },
  {
   "cell_type": "code",
   "execution_count": null,
   "metadata": {},
   "outputs": [],
   "source": []
  },
  {
   "cell_type": "code",
   "execution_count": 55,
   "metadata": {},
   "outputs": [],
   "source": [
    "#export"
   ]
  },
  {
   "cell_type": "code",
   "execution_count": 56,
   "metadata": {},
   "outputs": [],
   "source": [
    "dmd_pred[\"price\"].to_csv(\"final3.csv\",header= True )"
   ]
  },
  {
   "cell_type": "code",
   "execution_count": null,
   "metadata": {},
   "outputs": [],
   "source": []
  }
 ],
 "metadata": {
  "kernelspec": {
   "display_name": "Python 3",
   "language": "python",
   "name": "python3"
  },
  "language_info": {
   "codemirror_mode": {
    "name": "ipython",
    "version": 3
   },
   "file_extension": ".py",
   "mimetype": "text/x-python",
   "name": "python",
   "nbconvert_exporter": "python",
   "pygments_lexer": "ipython3",
   "version": "3.8.5"
  }
 },
 "nbformat": 4,
 "nbformat_minor": 4
}
